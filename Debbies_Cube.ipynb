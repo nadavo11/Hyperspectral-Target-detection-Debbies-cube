{
 "nbformat": 4,
 "nbformat_minor": 0,
 "metadata": {
  "colab": {
   "provenance": [],
   "machine_shape": "hm",
   "authorship_tag": "ABX9TyMcpVLeP+7G2FfP0uRis1S5",
   "include_colab_link": true
  },
  "kernelspec": {
   "name": "python3",
   "display_name": "Python 3"
  },
  "language_info": {
   "name": "python"
  },
  "accelerator": "TPU",
  "gpuClass": "standard"
 },
 "cells": [
  {
   "cell_type": "markdown",
   "metadata": {
    "id": "view-in-github",
    "colab_type": "text"
   },
   "source": [
    "<a href=\"https://colab.research.google.com/github/nadavo11/Hyperspectral-Target-detection-Debbies-cube/blob/main/Debbies_Cube.ipynb\" target=\"_parent\"><img src=\"https://colab.research.google.com/assets/colab-badge.svg\" alt=\"Open In Colab\"/></a>"
   ]
  },
  {
   "cell_type": "markdown",
   "source": [
    "#Debbie's Cube\n",
    "\n",
    "This paper presents the results of an analysis of a hyper-spectral image, using the target implant algorithm. The study compares the values of the implanted target with the original data at multiple pixel locations and analyzes the impact on the data spectrum. The paper also includes generated histograms and ROC curves for the analysis, along with A values calculated for different thresholds. The aim of the document is to provide a detailed understanding of the target implant algorithm and its impact on the data spectrum, which can be useful for various applications such as target detection in remote sensing and image processing."
   ],
   "metadata": {
    "id": "mCtLDCS-F4Rq"
   }
  },
  {
   "cell_type": "code",
   "source": [
    "! pip install spectral\n",
    "! pip install imageio\n",
    "\n",
    "import pandas as pd\n",
    "from matplotlib import pyplot as plt\n",
    "import imageio\n",
    "import numpy as np\n",
    "from numpy.core.multiarray import dtype\n",
    "import cv2\n",
    "\n",
    "import spectral.io.envi as envi\n",
    "from pathlib import Path\n",
    "\n",
    "hdr_path = \"bimodal.hdr\"\n"
   ],
   "metadata": {
    "id": "sLXwoo-Tr_zU",
    "colab": {
     "base_uri": "https://localhost:8080/"
    },
    "outputId": "491c85f4-543a-4a36-a92a-ba0580d24cb5"
   },
   "execution_count": 162,
   "outputs": [
    {
     "name": "stdout",
     "output_type": "stream",
     "text": [
      "^C\n",
      "Requirement already satisfied: spectral in c:\\users\\nain0414\\appdata\\local\\programs\\python\\python310\\lib\\site-packages (0.23.1)\n",
      "Requirement already satisfied: numpy in c:\\users\\nain0414\\appdata\\local\\programs\\python\\python310\\lib\\site-packages (from spectral) (1.22.4)\n"
     ]
    },
    {
     "name": "stderr",
     "output_type": "stream",
     "text": [
      "WARNING: Ignoring invalid distribution - (c:\\users\\nain0414\\appdata\\local\\programs\\python\\python310\\lib\\site-packages)\n",
      "WARNING: Ignoring invalid distribution -rotobuf (c:\\users\\nain0414\\appdata\\local\\programs\\python\\python310\\lib\\site-packages)\n",
      "WARNING: Ignoring invalid distribution -otobuf (c:\\users\\nain0414\\appdata\\local\\programs\\python\\python310\\lib\\site-packages)\n",
      "WARNING: Ignoring invalid distribution - (c:\\users\\nain0414\\appdata\\local\\programs\\python\\python310\\lib\\site-packages)\n",
      "WARNING: Ignoring invalid distribution -rotobuf (c:\\users\\nain0414\\appdata\\local\\programs\\python\\python310\\lib\\site-packages)\n",
      "WARNING: Ignoring invalid distribution -otobuf (c:\\users\\nain0414\\appdata\\local\\programs\\python\\python310\\lib\\site-packages)\n"
     ]
    },
    {
     "name": "stdout",
     "output_type": "stream",
     "text": [
      "^C\n"
     ]
    }
   ]
  },
  {
   "cell_type": "code",
   "execution_count": 163,
   "metadata": {
    "id": "fwzk4UO8qRtp"
   },
   "outputs": [],
   "source": [
    "import spectral as spec\n",
    "from spectral.graphics.spypylab import imshow\n"
   ]
  },
  {
   "cell_type": "markdown",
   "source": [
    "# Visualization for Hyper Spectral Data\n",
    "\n"
   ],
   "metadata": {
    "id": "A_UztpSu-JFZ"
   }
  },
  {
   "cell_type": "code",
   "source": [
    "def hyper_visualize(img):\n",
    "    spec.imshow(img,(0,45,90),figsize = (7,7))\n",
    "    fig, axs = plt.subplots(nrows=2, ncols=2, figsize=(7, 7))\n",
    "\n",
    "    axs[0, 0].imshow(img[:, :, 0], cmap='gray')\n",
    "    axs[0, 0].set_title('Channel 1')\n",
    "    axs[0, 1].imshow(img[:, :, 29], cmap='gray')\n",
    "    axs[0, 1].set_title('Channel 30')\n",
    "    axs[1, 0].imshow(img[:, :, 59], cmap='gray')\n",
    "    axs[1, 0].set_title('Channel 60')\n",
    "    axs[1, 1].imshow(img[:, :, 89], cmap='gray')\n",
    "    axs[1, 1].set_title('Channel 90')\n",
    "\n",
    "    #plt.tight_layout()\n",
    "    plt.show()"
   ],
   "metadata": {
    "id": "sXaVbKNPvb_w"
   },
   "execution_count": 164,
   "outputs": []
  },
  {
   "cell_type": "markdown",
   "source": [
    "# Load The Cube\n",
    "\n"
   ],
   "metadata": {
    "id": "gHZNO5Fd0CEs"
   }
  },
  {
   "cell_type": "code",
   "source": [
    "\n",
    "\n",
    "\n",
    "header_file = str(hdr_path)\n",
    "spectral_file = str('bimodal.dat')\n",
    "\n",
    "numpy_ndarr = envi.open(header_file, spectral_file)\n",
    "\n",
    "cube = numpy_ndarr.read_bands(range(91))  # select the bands\n",
    "CHANNELS = cube.shape[2]\n",
    "# Here, cube is an numpy nd-array\n",
    "\n",
    "print(cube.shape)    # returns (100, 100, 3)\n"
   ],
   "metadata": {
    "colab": {
     "base_uri": "https://localhost:8080/"
    },
    "id": "tMK1xqD7u9SW",
    "outputId": "e5f5234f-15c3-4d86-f37f-f3dfaaf93ccd"
   },
   "execution_count": 165,
   "outputs": [
    {
     "name": "stdout",
     "output_type": "stream",
     "text": [
      "(50, 50, 91)\n"
     ]
    }
   ]
  },
  {
   "cell_type": "markdown",
   "source": [
    "a $50\\times50\\times91$  hyperspectral cube means that we have a total of 91 channels of hight and width of 50 pixels"
   ],
   "metadata": {
    "id": "45v-4r4GPmzf"
   }
  },
  {
   "cell_type": "code",
   "source": [
    "hyper_visualize(cube)"
   ],
   "metadata": {
    "colab": {
     "base_uri": "https://localhost:8080/",
     "height": 1000
    },
    "id": "fZYE015s0eLq",
    "outputId": "e1925b0c-f606-4438-908e-a49516ef489b"
   },
   "execution_count": 166,
   "outputs": [
    {
     "data": {
      "text/plain": "<Figure size 700x700 with 1 Axes>",
      "image/png": "[encoded data removed]"
     },
     "metadata": {},
     "output_type": "display_data"
    },
    {
     "name": "stderr",
     "output_type": "stream",
     "text": [
      "\n",
      "KeyboardInterrupt\n",
      "\n"
     ]
    }
   ]
  },
  {
   "cell_type": "markdown",
   "source": [
    "## Define our target, density, and treshold"
   ],
   "metadata": {
    "id": "ZNPeKGM7QIUb"
   }
  },
  {
   "cell_type": "code",
   "source": [
    "#target's spectrum\n",
    "t = cube[4,2,:]\n",
    "#target's density\n",
    "p= 0.01\n",
    "#detection treshold\n",
    "th = 0.1"
   ],
   "metadata": {
    "id": "z19HVW2n2m9g"
   },
   "execution_count": null,
   "outputs": []
  },
  {
   "cell_type": "markdown",
   "source": [
    "## visalize our target"
   ],
   "metadata": {
    "id": "ZHhAK_kwH6tj"
   }
  },
  {
   "cell_type": "code",
   "source": [
    "plt.plot(range(len(t)),t)\n",
    "\n",
    "# Add labels and title\n",
    "plt.xlabel('channel')\n",
    "plt.ylabel('Value')\n",
    "plt.title('target spectrum')\n",
    "\n",
    "# Show the plot\n",
    "plt.show()"
   ],
   "metadata": {
    "colab": {
     "base_uri": "https://localhost:8080/",
     "height": 472
    },
    "id": "Kb3kUKWaFCJ4",
    "outputId": "f75776e4-76ea-4049-dd6c-33f0c90f43f5"
   },
   "execution_count": null,
   "outputs": []
  },
  {
   "cell_type": "markdown",
   "source": [
    "# Calculate Cube's Statistics\n",
    "\n",
    "## mean - $m$\n",
    "Let's compute the statistic properties of a given 2D-pixel and its neighbors. We will first calculate the estimator, denoted as $m$, which is an estimation of the cube $x$. The estimator for every pixel is simply the mean of its immediate neighbors. Instead of calculating this directly using loops and addressing edge cases, we can compute this quite easily using convolution.\n",
    "\n",
    "Let $X$ be a $3\\times 3$ matrix of the given 2D-pixel and its neighbors. We can calculate the estimator $m$ as follows:\n",
    "\n",
    "$m = \\frac{1}{8}\\sum\\limits_{\\substack{i=1 \\ j=1}}^{3} X_{i,j} - \\frac{1}{8} X_{2,2}$\n",
    "\n",
    "\n",
    "\n",
    "\n",
    "​\n",
    " \n",
    "\n",
    "Here, we convolve $X$ with a $3\\times 3$ matrix $k= \\frac{1}{8} \\times \\begin{bmatrix}\n",
    "1 & 1 & 1 \\\\\n",
    "1 & 0 & 1 \\\\\n",
    "1 & 1 & 1\n",
    "\\end{bmatrix}$\n",
    "\n",
    " to obtain what we need. This is beneficial since we no longer have to take into account edge pixels, which have five neighbors, and corner pixels, which have only three neighbors. The only consideration for edges is dividing by the correct number of neighbors. We can accomplish this by using the function build_norm_mat that builds a normalizing matrix of the desired size."
   ],
   "metadata": {
    "id": "9eIG4k-Q6D4X"
   }
  },
  {
   "cell_type": "code",
   "source": [
    "from scipy.ndimage import generic_filter as conv\n",
    "\n",
    "def compute_m(cube):\n",
    "    M = np.zeros(cube.shape)\n",
    "\n",
    "    # Define kernel for convolution                                         \n",
    "    kernel = np.array([[1,1,1],\n",
    "                        [1,0,1],\n",
    "                        [1,1,1]]) \n",
    "    for c in range(M.shape[-1]):\n",
    "\n",
    "        # Perform 2D convolution with input data and kernel \n",
    "        \n",
    "        #M[:,:,c] = signal.convolve2d(cube[:,:,c], kernel, boundary='wrap', mode='same')/8\n",
    "        M[:,:,c] = conv(cube[:,:,c],\n",
    "                        np.nanmean,\n",
    "                        size=3,\n",
    "                        footprint=kernel,\n",
    "                        mode='constant',\n",
    "                        cval=np.NaN)\n",
    "    return M\n",
    "\n",
    "M = compute_m(cube)\n",
    "print (M.shape)\n"
   ],
   "metadata": {
    "colab": {
     "base_uri": "https://localhost:8080/"
    },
    "id": "A868laLPAoTF",
    "outputId": "475efbf3-2c4e-4f39-a255-b53a8bb7d714"
   },
   "execution_count": null,
   "outputs": []
  },
  {
   "cell_type": "markdown",
   "source": [
    "### visualize $m(i,j)$"
   ],
   "metadata": {
    "id": "KP9q3CozQ-Ks"
   }
  },
  {
   "cell_type": "code",
   "source": [
    "hyper_visualize(M)"
   ],
   "metadata": {
    "colab": {
     "base_uri": "https://localhost:8080/",
     "height": 1000
    },
    "id": "iTg_sJqtI1Uz",
    "outputId": "0563296a-dc78-4811-a0d6-012fdb5168df"
   },
   "execution_count": null,
   "outputs": []
  },
  {
   "cell_type": "markdown",
   "source": [
    "# the mean difference estimator\n",
    "\n",
    "Here, we are computing an estimator of the difference between a pixel's value and the mean value of its neighbors. This is a common technique in image processing known as local mean subtraction. The idea behind this is that if a pixel's value deviates significantly from the mean value of its neighboring pixels, then it may be part of a target object.\n",
    "\n",
    "More formally, let X be the value of a pixel at location $(i,j)$ in an image, $M(i,j)$ is the mean value of the neighboring pixels of X. Then, the estimator of the difference between X and M(i,j) is given by:\n",
    "\n",
    "$E[X-M(i,j)] = X(i,j) - M(i,j)$\n",
    "\n",
    "where X and M(i,j) are both scalar values representing the intensity of the pixel at location (i,j) and the mean intensity of its neighboring pixels, respectively.\n",
    "\n",
    "Once we have computed the estimator for each pixel in the image, practically we can use a thresholding technique to classify pixels as target or non-target. Pixels with a large positive value of E(X-M(i,j)) are more likely to be part of a target object, while pixels with a small or negative value are more likely to be part of the background.\n",
    "\n",
    "however we will use the more sophisticated method, involving a mached filter, more on that in the next blocks.\n",
    "\n"
   ],
   "metadata": {
    "id": "QKqZRWxzSszj"
   }
  },
  {
   "cell_type": "code",
   "source": [
    "diff_estimator = cube - M\n",
    "diff_estimator_wt = diff_estimator +p*t"
   ],
   "metadata": {
    "id": "nn_uBBHzSnMV"
   },
   "execution_count": null,
   "outputs": []
  },
  {
   "cell_type": "code",
   "source": [
    "from tabulate import tabulate\n",
    "\n",
    "# Define the table data as a list of lists\n",
    "table = [\n",
    "    [\"Pixel location\", \"NT\", \"WT\"],\n",
    "    [\"(5,5)\", diff_estimator[4,4,0],  diff_estimator_wt[4,4,0]],\n",
    "    [\"(10,10)\", diff_estimator[9,9,0],  diff_estimator_wt[9,9,0]],\n",
    "    [\"(15,15)\",diff_estimator[14,14,0],  diff_estimator_wt[14,14,0]],\n",
    "    [\"(20,20)\", diff_estimator[19,19,0],  diff_estimator_wt[19,19,0]]\n",
    "]\n",
    "\n",
    "print(\"\\tvalues of (x'-m):\\n\")\n",
    "print(tabulate(table, headers='firstrow', tablefmt='fancy_grid'))\n"
   ],
   "metadata": {
    "colab": {
     "base_uri": "https://localhost:8080/"
    },
    "id": "F8cS2YOnLV34",
    "outputId": "1eec37f7-14f1-4114-83b4-ac017f912420"
   },
   "execution_count": null,
   "outputs": []
  },
  {
   "cell_type": "markdown",
   "source": [],
   "metadata": {
    "id": "IGP4IKRSLVmr"
   }
  },
  {
   "cell_type": "markdown",
   "source": [],
   "metadata": {
    "id": "7EZFBGxyRK6B"
   }
  },
  {
   "cell_type": "markdown",
   "source": [
    "#  Covariance Matrix - $\\phi$\n",
    "## Computing the Matrix\n",
    "The covariance matrix we need is actually the auto-covariance matrix of the cube given by $\\phi = E[ (X-m)·(X-m)^T]$\n",
    "\n",
    "even though auto-covariance matrices are typically obtained from random vectors, not 3D matrices. However, in numpy, a random variable can be represented as a vector of samples from its distribution, which allows us to discuss statistical properties like mean and variance. Thus, a random vector can be a matrix where each row represents a single random variable. In our case, each of the 91 images in the cube is a random variable that has been sampled and organized into a matrix. \n",
    "\n",
    "so, if we concatenate the rows of each channel $c$ to form a $ 2500\\times1 $ vector, we can represent the cube as a random vector of length 91. \n",
    "\n",
    "This new vector has the same statistical properties as the original images, and its auto-covariance matrix, sized 91x2500, is what we are looking for.\n",
    "\n",
    "\n",
    "\n",
    "##"
   ],
   "metadata": {
    "id": "1MrlK4AcWqMa"
   }
  },
  {
   "cell_type": "code",
   "execution_count": null,
   "outputs": [],
   "source": [
    "# Reshape X_MINUS_M to a 2D array of size (x_size*y_size) by num_of_bands\n",
    "X,Y, n_bands = cube.shape\n",
    "\n",
    "X_MINUS_M = np.reshape(diff_estimator, (X*Y, n_bands))\n",
    "CUBE      = np.reshape(cube,           (X*Y, n_bands))"
   ],
   "metadata": {
    "collapsed": false
   }
  },
  {
   "cell_type": "markdown",
   "source": [
    " neither did this approach, according to $\\phi = E [(x-m)\\times (x-m)^T)]$"
   ],
   "metadata": {
    "collapsed": false
   }
  },
  {
   "cell_type": "code",
   "source": [
    "\n",
    "for i in range(CHANNELS):\n",
    "    for j in range(CHANNELS):\n",
    "\n",
    "        phi[i,j] = np.mean(X_MINUS_M[:,i] @ X_MINUS_M[:,j].T)"
   ],
   "metadata": {
    "colab": {
     "base_uri": "https://localhost:8080/"
    },
    "id": "3xJX15Fu4zvo",
    "outputId": "d9632486-7422-4501-8d56-ceb825d453d9"
   },
   "execution_count": null,
   "outputs": []
  },
  {
   "cell_type": "markdown",
   "source": [
    "so I tried to take the covariance of the cube itself:\n"
   ],
   "metadata": {
    "collapsed": false
   }
  },
  {
   "cell_type": "code",
   "execution_count": null,
   "outputs": [],
   "source": [
    "phi = np.cov(CUBE, rowvar=False)"
   ],
   "metadata": {
    "collapsed": false
   }
  },
  {
   "cell_type": "markdown",
   "source": [
    "this didn't produce good results:✅✅"
   ],
   "metadata": {
    "collapsed": false
   }
  },
  {
   "cell_type": "code",
   "execution_count": null,
   "outputs": [],
   "source": [
    "# Compute the covariance matrix of the reshaped array\n",
    "phi = np.cov(X_MINUS_M, rowvar=False)\n"
   ],
   "metadata": {
    "collapsed": false
   }
  },
  {
   "cell_type": "markdown",
   "source": [
    "the shape was always correct though, (91, 91)"
   ],
   "metadata": {
    "collapsed": false
   }
  },
  {
   "cell_type": "markdown",
   "source": [],
   "metadata": {
    "collapsed": false
   }
  },
  {
   "cell_type": "code",
   "source": [
    "hyper_visualize(diff_estimator)\n",
    "print(diff_estimator[4,4,0])"
   ],
   "metadata": {
    "colab": {
     "base_uri": "https://localhost:8080/",
     "height": 1000
    },
    "id": "9rh_ES10kpSb",
    "outputId": "5f470d0b-cd09-414a-c4ae-3d2c01e82195"
   },
   "execution_count": null,
   "outputs": []
  },
  {
   "cell_type": "markdown",
   "source": [
    "# Matched Filter\n",
    "\n",
    "We are now ready to proceed with running the MF algorithm as intended. We will be running the algorithm twice per 90-entry-pixel $X(i,j)$ $i,j \\in [0,50]$.\n",
    "\n",
    " First, we will run the algorithm with no target (NT). Secondly, we will be planting a certain percentage of the target (in our case $p = 0.01 $) in each pixel (WT).\n",
    "\n",
    "the mached filter is of the form:\n",
    " $t^T \\phi^{-1}(x'-m)$\n",
    "\n",
    "when $\\phi , m$ were already calculated, and $x'$ will represent a pixel: once implanted with a target (WT), and once as is (NT)"
   ],
   "metadata": {
    "id": "DCp3RVVgc8dx"
   }
  },
  {
   "cell_type": "code",
   "source": [
    "Matched_Filter_NT = np.zeros((X,Y))\n",
    "Matched_Filter_WT = np.zeros((X,Y))\n"
   ],
   "metadata": {
    "id": "ICqa1PRWdLK9"
   },
   "execution_count": null,
   "outputs": []
  },
  {
   "cell_type": "code",
   "source": [
    "MF_coef = t.T @ np.linalg.inv(phi)\n",
    "MF_coef.shape"
   ],
   "metadata": {
    "colab": {
     "base_uri": "https://localhost:8080/"
    },
    "id": "4hP39J93dcsK",
    "outputId": "cd024b4c-2976-43f3-d528-ef8b0d9d1f5e"
   },
   "execution_count": null,
   "outputs": []
  },
  {
   "cell_type": "code",
   "source": [
    "# no target\n",
    "\n",
    "#X_MINUS_M = np.transpose(diff_estimator,(2,1,0))\n",
    "#X_MINUS_M_WT = np.transpose(diff_estimator_wt,(2,1,0))\n",
    "print(X_MINUS_M.shape)\n",
    "\n",
    "for i in range(X):\n",
    "    for j in range(Y):\n",
    "\n",
    "        Matched_Filter_NT[i,j] = MF_coef @ diff_estimator[i,j,:]\n",
    "        Matched_Filter_WT[i,j] = MF_coef @ diff_estimator_wt[i,j,:]\n",
    "\n"
   ],
   "metadata": {
    "id": "7GHN0KOEfgVT"
   },
   "execution_count": null,
   "outputs": []
  },
  {
   "cell_type": "code",
   "source": [
    "Matched_Filter_WT.shape\n"
   ],
   "metadata": {
    "colab": {
     "base_uri": "https://localhost:8080/"
    },
    "id": "zBjqzmSsHHzk",
    "outputId": "3161e286-e189-49fb-a87f-2ff8f83ac87c"
   },
   "execution_count": null,
   "outputs": []
  },
  {
   "cell_type": "code",
   "source": [
    "table = [\n",
    "    [\"Pixel location\", \"NT\", \"WT\"],\n",
    "    [\"(5,5)\", Matched_Filter_NT[4,4],  Matched_Filter_WT[4,4]],\n",
    "    [\"(10,10)\", Matched_Filter_NT[9,9],  Matched_Filter_WT[9,9]],\n",
    "    [\"(15,15)\",Matched_Filter_NT[14,14],  Matched_Filter_WT[14,14]],\n",
    "    [\"(20,20)\", Matched_Filter_NT[19,19],  Matched_Filter_WT[19,19]]\n",
    "]\n",
    "\n",
    "print(\"  values of the matched filter's output:\\n\")\n",
    "print(tabulate(table, headers='firstrow', tablefmt='fancy_grid'))\n"
   ],
   "metadata": {
    "colab": {
     "base_uri": "https://localhost:8080/"
    },
    "id": "qidZY40VWsB1",
    "outputId": "3963b63f-4de5-46c4-b5b3-2b8b5cc7fedb"
   },
   "execution_count": null,
   "outputs": []
  },
  {
   "cell_type": "markdown",
   "source": [
    "# Results\n",
    "\n",
    "now for the important part: let's see if we managed to get a good detector!\n",
    "\n",
    "## Histogram\n",
    "\n",
    "the histogram will reveal the distribution of the matched filter's output, for innocent pixels, and for target implanted ones.\n",
    "this will give us a good insight as to weathere there exists a treshold value such that we can decide confidently that a pixel contains a target for outputs above it."
   ],
   "metadata": {
    "id": "5TUOZycsENDS"
   }
  },
  {
   "cell_type": "code",
   "source": [
    "NT_val, NT_bins = np.histogram(Matched_Filter_NT, bins=100)\n",
    "WT_val, WT_bins = np.histogram(Matched_Filter_WT, bins=100)\n",
    "\n",
    "fig, ax = plt.subplots()\n",
    "ax.plot(NT_bins[:-1], NT_val, label='No target')\n",
    "ax.plot(WT_bins[:-1], WT_val, label='With target')\n",
    "ax.set(title='Original Histogram', xlabel='Bins', ylabel='Frequency')\n",
    "ax.legend()\n",
    "fig.set_size_inches(5, 5)\n",
    "plt.show()"
   ],
   "metadata": {
    "colab": {
     "base_uri": "https://localhost:8080/",
     "height": 487
    },
    "id": "P208TQLPIbcQ",
    "outputId": "2ca2bdd6-9dd6-4ac1-e4f4-2e2ce75b8632"
   },
   "execution_count": 167,
   "outputs": [
    {
     "data": {
      "text/plain": "<Figure size 500x500 with 1 Axes>",
      "image/png": "[encoded data removed]"
     },
     "metadata": {},
     "output_type": "display_data"
    }
   ]
  },
  {
   "cell_type": "code",
   "source": [
    "from scipy.integrate import cumtrapz\n"
   ],
   "metadata": {
    "id": "hed17tueLIk5"
   },
   "execution_count": 168,
   "outputs": []
  },
  {
   "cell_type": "code",
   "source": [
    "x_size = len(Matched_Filter_WT)\n",
    "y_size = len(Matched_Filter_NT)\n",
    "ipd = 1 - cumtrapz(WT_val, initial=0)/(X*Y)\n",
    "ipfa = 1 - cumtrapz(NT_val, initial=0)/(X*Y)\n",
    "\n",
    "fig, ax = plt.subplots()\n",
    "ax.plot(WT_bins[:-1], ipd, label='iPd')\n",
    "ax.plot(NT_bins[:-1], ipfa, label='iPfa')\n",
    "ax.set(title='Inverse Cumulative Probability Distribution', xlabel='Bins', ylabel='Probability')\n",
    "ax.legend()\n",
    "fig.set_size_inches(5, 5)\n",
    "plt.show()"
   ],
   "metadata": {
    "colab": {
     "base_uri": "https://localhost:8080/",
     "height": 487
    },
    "id": "eBf0SOgULN9w",
    "outputId": "413bfb53-4b8a-40d7-f403-8c13f32fc0e7"
   },
   "execution_count": 169,
   "outputs": [
    {
     "data": {
      "text/plain": "<Figure size 500x500 with 1 Axes>",
      "image/png": "[encoded data removed]"
     },
     "metadata": {},
     "output_type": "display_data"
    }
   ]
  },
  {
   "cell_type": "code",
   "source": [
    "print(ipfa)"
   ],
   "metadata": {
    "colab": {
     "base_uri": "https://localhost:8080/"
    },
    "id": "Y5_jjKKJO24p",
    "outputId": "1090abd2-3483-4a5d-ef47-2d21fe710600"
   },
   "execution_count": 172,
   "outputs": [
    {
     "name": "stdout",
     "output_type": "stream",
     "text": [
      "[1.000e+00 9.998e-01 9.998e-01 9.998e-01 9.998e-01 9.998e-01 9.998e-01\n",
      " 9.996e-01 9.992e-01 9.982e-01 9.968e-01 9.952e-01 9.936e-01 9.924e-01\n",
      " 9.896e-01 9.856e-01 9.822e-01 9.790e-01 9.764e-01 9.720e-01 9.646e-01\n",
      " 9.578e-01 9.516e-01 9.434e-01 9.338e-01 9.238e-01 9.144e-01 9.048e-01\n",
      " 8.926e-01 8.792e-01 8.622e-01 8.436e-01 8.244e-01 8.048e-01 7.812e-01\n",
      " 7.546e-01 7.310e-01 7.058e-01 6.786e-01 6.526e-01 6.240e-01 5.938e-01\n",
      " 5.594e-01 5.236e-01 4.930e-01 4.644e-01 4.378e-01 4.078e-01 3.762e-01\n",
      " 3.488e-01 3.236e-01 2.968e-01 2.710e-01 2.462e-01 2.220e-01 2.038e-01\n",
      " 1.874e-01 1.682e-01 1.508e-01 1.350e-01 1.202e-01 1.076e-01 9.620e-02\n",
      " 8.600e-02 7.700e-02 6.840e-02 6.040e-02 5.320e-02 4.560e-02 3.960e-02\n",
      " 3.560e-02 3.120e-02 2.700e-02 2.200e-02 1.700e-02 1.400e-02 1.240e-02\n",
      " 1.100e-02 9.200e-03 7.600e-03 6.600e-03 5.600e-03 4.800e-03 4.200e-03\n",
      " 3.600e-03 3.200e-03 3.000e-03 3.000e-03 3.000e-03 2.800e-03 2.400e-03\n",
      " 2.000e-03 1.600e-03 1.200e-03 1.000e-03 1.000e-03 1.000e-03 1.000e-03\n",
      " 8.000e-04 4.000e-04]\n"
     ]
    }
   ]
  },
  {
   "cell_type": "code",
   "source": [
    "plt.figure()\n",
    "plt.plot(ipfa, ipd)\n",
    "# plt.plot([0, th], [0, th], '--')\n",
    "plt.title('ROC curve - 0<pfa<0.1')\n",
    "plt.xlabel('Pfa')\n",
    "plt.ylabel('Pd')\n",
    "plt.legend(['Matched Filter', 'P_d=P_{fa}'], loc='upper left')\n",
    "plt.xlim([0, th])\n",
    "plt.show()"
   ],
   "metadata": {
    "colab": {
     "base_uri": "https://localhost:8080/",
     "height": 472
    },
    "id": "seNoXhxMa1on",
    "outputId": "ed7b7f6f-5fee-4506-9f7e-4b3c99df2cd4"
   },
   "execution_count": 171,
   "outputs": [
    {
     "data": {
      "text/plain": "<Figure size 640x480 with 1 Axes>",
      "image/png": "[encoded data removed]"
     },
     "metadata": {},
     "output_type": "display_data"
    }
   ]
  },
  {
   "cell_type": "code",
   "execution_count": 171,
   "outputs": [],
   "source": [],
   "metadata": {
    "collapsed": false
   }
  }
 ]
}

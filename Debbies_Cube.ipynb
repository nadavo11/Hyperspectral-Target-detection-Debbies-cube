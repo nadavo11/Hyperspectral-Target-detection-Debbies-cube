{
  "nbformat": 4,
  "nbformat_minor": 0,
  "metadata": {
    "colab": {
      "provenance": [],
      "machine_shape": "hm",
      "authorship_tag": "ABX9TyMybkwtMoIfsbSRVjQb5j2F",
      "include_colab_link": true
    },
    "kernelspec": {
      "name": "python3",
      "display_name": "Python 3"
    },
    "language_info": {
      "name": "python"
    },
    "accelerator": "TPU",
    "gpuClass": "standard"
  },
  "cells": [
    {
      "cell_type": "markdown",
      "metadata": {
        "id": "view-in-github",
        "colab_type": "text"
      },
      "source": [
        "<a href=\"https://colab.research.google.com/github/nadavo11/Hyperspectral-Target-detection-Debbies-cube/blob/main/Debbies_Cube.ipynb\" target=\"_parent\"><img src=\"https://colab.research.google.com/assets/colab-badge.svg\" alt=\"Open In Colab\"/></a>"
      ]
    },
    {
      "cell_type": "code",
      "source": [
        "import pandas as pd"
      ],
      "metadata": {
        "id": "sLXwoo-Tr_zU"
      },
      "execution_count": 4,
      "outputs": []
    },
    {
      "cell_type": "code",
      "execution_count": 5,
      "metadata": {
        "colab": {
          "base_uri": "https://localhost:8080/"
        },
        "id": "fwzk4UO8qRtp",
        "outputId": "db9336da-25d6-4e3e-9c0d-6fbfcc8a6b61"
      },
      "outputs": [
        {
          "output_type": "stream",
          "name": "stdout",
          "text": [
            "Looking in indexes: https://pypi.org/simple, https://us-python.pkg.dev/colab-wheels/public/simple/\n",
            "Collecting spectral\n",
            "  Downloading spectral-0.23.1-py3-none-any.whl (212 kB)\n",
            "\u001b[?25l     \u001b[90m━━━━━━━━━━━━━━━━━━━━━━━━━━━━━━━━━━━━━━━━\u001b[0m \u001b[32m0.0/212.9 KB\u001b[0m \u001b[31m?\u001b[0m eta \u001b[36m-:--:--\u001b[0m\r\u001b[2K     \u001b[91m━━━━━━━━━━━━━━━━━━━━━━━━━━━━━━━━━━━━━\u001b[0m\u001b[91m╸\u001b[0m\u001b[90m━\u001b[0m \u001b[32m204.8/212.9 KB\u001b[0m \u001b[31m7.8 MB/s\u001b[0m eta \u001b[36m0:00:01\u001b[0m\r\u001b[2K     \u001b[90m━━━━━━━━━━━━━━━━━━━━━━━━━━━━━━━━━━━━━━━\u001b[0m \u001b[32m212.9/212.9 KB\u001b[0m \u001b[31m5.6 MB/s\u001b[0m eta \u001b[36m0:00:00\u001b[0m\n",
            "\u001b[?25hRequirement already satisfied: numpy in /usr/local/lib/python3.9/dist-packages (from spectral) (1.24.2)\n",
            "Installing collected packages: spectral\n",
            "Successfully installed spectral-0.23.1\n"
          ]
        }
      ],
      "source": [
        "! pip install spectral\n"
      ]
    },
    {
      "cell_type": "code",
      "source": [
        "import imageio\n",
        "import numpy as np"
      ],
      "metadata": {
        "id": "sXaVbKNPvb_w"
      },
      "execution_count": 6,
      "outputs": []
    },
    {
      "cell_type": "markdown",
      "source": [
        "# Load The Cube"
      ],
      "metadata": {
        "id": "gHZNO5Fd0CEs"
      }
    },
    {
      "cell_type": "code",
      "source": [
        "hdr_path = \"bimodal.hdr\"\n",
        "import cv2\n",
        "\n",
        "import spectral.io.envi as envi\n",
        "from pathlib import Path\n",
        "\n",
        "\n",
        "header_file = str(hdr_path)\n",
        "spectral_file = str('bimodal.dat')\n",
        "\n",
        "numpy_ndarr = envi.open(header_file, spectral_file)\n",
        "\n",
        "cube = numpy_ndarr.read_bands(range(91))  # select the bands\n",
        "\n",
        "# Here, cube is an numpy nd-array\n",
        "\n",
        "print(cube.shape)    # returns (100, 100, 3)\n"
      ],
      "metadata": {
        "colab": {
          "base_uri": "https://localhost:8080/"
        },
        "id": "tMK1xqD7u9SW",
        "outputId": "1a940268-8643-4435-93d0-cef28cbde8c6"
      },
      "execution_count": 7,
      "outputs": [
        {
          "output_type": "stream",
          "name": "stdout",
          "text": [
            "(50, 50, 91)\n"
          ]
        }
      ]
    },
    {
      "cell_type": "code",
      "source": [
        "import spectral as spec"
      ],
      "metadata": {
        "id": "9Ao0_aND0mAB"
      },
      "execution_count": 8,
      "outputs": []
    },
    {
      "cell_type": "code",
      "source": [
        "from spectral.graphics.spypylab import imshow\n",
        "spec.imshow(cube,(0,45,90))"
      ],
      "metadata": {
        "colab": {
          "base_uri": "https://localhost:8080/",
          "height": 618
        },
        "id": "fZYE015s0eLq",
        "outputId": "9e112f7f-cfb6-42e2-e0f9-c51ce1f59b3d"
      },
      "execution_count": 9,
      "outputs": [
        {
          "output_type": "stream",
          "name": "stderr",
          "text": [
            "/usr/local/lib/python3.9/dist-packages/spectral/graphics/spypylab.py:796: UserWarning: Failed to create RectangleSelector object. Interactive pixel class labeling will be unavailable.\n",
            "  warnings.warn(msg)\n"
          ]
        },
        {
          "output_type": "execute_result",
          "data": {
            "text/plain": [
              "ImageView object:\n",
              "  Display bands       :  (0, 45, 90)\n",
              "  Interpolation       :  <default>\n",
              "  RGB data limits     :\n",
              "    R: [2998.0, 3651.0]\n",
              "    G: [2640.0, 3986.0]\n",
              "    B: [1592.0, 2254.0]"
            ]
          },
          "metadata": {},
          "execution_count": 9
        },
        {
          "output_type": "display_data",
          "data": {
            "text/plain": [
              "<Figure size 640x480 with 1 Axes>"
            ],
            "image/png": "[encoded data removed]"
          },
          "metadata": {}
        }
      ]
    },
    {
      "cell_type": "code",
      "source": [
        "t = cube[5,3,:]\n",
        "p= 0.1\n",
        "th = 0.1"
      ],
      "metadata": {
        "id": "z19HVW2n2m9g"
      },
      "execution_count": 10,
      "outputs": []
    },
    {
      "cell_type": "markdown",
      "source": [
        "# Calculate Cube's Statistics\n",
        "Let's compute the statistic properties of a given 2D-pixel and its neighbors. We will first calculate the estimator, denoted as $m$, which is an estimation of the cube $x$. The estimator for every pixel is simply the mean of its immediate neighbors. Instead of calculating this directly using loops and addressing edge cases, we can compute this quite easily using convolution.\n",
        "\n",
        "Let $X$ be a $3\\times 3$ matrix of the given 2D-pixel and its neighbors. We can calculate the estimator $m$ as follows:\n",
        "\n",
        "$m = \\frac{1}{8}\\sum\\limits_{\\substack{i=1 \\ j=1}}^{3} X_{i,j} - \\frac{1}{8} X_{2,2}$\n",
        "\n",
        "\n",
        "\n",
        "\n",
        "​\n",
        " \n",
        "\n",
        "Here, we convolve $X$ with a $3\\times 3$ matrix $k= \\frac{1}{8} \\times \\begin{bmatrix}\n",
        "1 & 1 & 1 \\\\\n",
        "1 & 0 & 1 \\\\\n",
        "1 & 1 & 1\n",
        "\\end{bmatrix}$\n",
        "\n",
        " to obtain what we need. This is beneficial since we no longer have to take into account edge pixels, which have five neighbors, and corner pixels, which have only three neighbors. The only consideration for edges is dividing by the correct number of neighbors. We can accomplish this by using the function build_norm_mat that builds a normalizing matrix of the desired size."
      ],
      "metadata": {
        "id": "9eIG4k-Q6D4X"
      }
    },
    {
      "cell_type": "code",
      "source": [
        "from scipy import signal\n",
        "\n",
        "def compute_m(cube):\n",
        "    M = np.zeros(cube.shape)\n",
        "\n",
        "    # Define kernel for convolution                                         \n",
        "    kernel = np.array([[1,1,1],\n",
        "                        [1,0,1],\n",
        "                        [1,1,1]]) \n",
        "    for c in range(M.shape[0]):\n",
        "\n",
        "        # Perform 2D convolution with input data and kernel \n",
        "        M[c] = signal.convolve2d(cube[c], kernel, boundary='wrap', mode='same')/8\n",
        "\n",
        "    return M\n",
        "\n",
        "M = compute_m(cube)\n",
        "print (M.shape)\n"
      ],
      "metadata": {
        "colab": {
          "base_uri": "https://localhost:8080/"
        },
        "id": "A868laLPAoTF",
        "outputId": "c20d9ee9-1c1d-48a9-c0e9-61047a71bfde"
      },
      "execution_count": 16,
      "outputs": [
        {
          "output_type": "stream",
          "name": "stdout",
          "text": [
            "(50, 50, 91)\n"
          ]
        }
      ]
    },
    {
      "cell_type": "code",
      "source": [
        "\n",
        "print (M.shape)\n",
        "spec.imshow(M,(0,1,2))"
      ],
      "metadata": {
        "colab": {
          "base_uri": "https://localhost:8080/",
          "height": 580
        },
        "id": "04AsDC_aIgp2",
        "outputId": "d9bed57f-c9ae-48f8-9619-4d2b888c1ba6"
      },
      "execution_count": 27,
      "outputs": [
        {
          "output_type": "stream",
          "name": "stdout",
          "text": [
            "(50, 50, 91)\n"
          ]
        },
        {
          "output_type": "execute_result",
          "data": {
            "text/plain": [
              "ImageView object:\n",
              "  Display bands       :  (0, 1, 2)\n",
              "  Interpolation       :  <default>\n",
              "  RGB data limits     :\n",
              "    R: [2871.0, 3507.75]\n",
              "    G: [3614.625, 4317.0]\n",
              "    B: [3865.375, 4673.75]"
            ]
          },
          "metadata": {},
          "execution_count": 27
        },
        {
          "output_type": "display_data",
          "data": {
            "text/plain": [
              "<Figure size 640x480 with 1 Axes>"
            ],
            "image/png": "[encoded data removed]"
          },
          "metadata": {}
        }
      ]
    },
    {
      "cell_type": "code",
      "source": [
        "from matplotlib import pyplot \n",
        "diff_estimator = cube - M\n",
        "cv2_imshow(diff_estimator[0])"
      ],
      "metadata": {
        "colab": {
          "base_uri": "https://localhost:8080/",
          "height": 67
        },
        "id": "iTg_sJqtI1Uz",
        "outputId": "e786fb8a-7930-4b38-d186-261a2ebdef92"
      },
      "execution_count": 35,
      "outputs": [
        {
          "output_type": "display_data",
          "data": {
            "text/plain": [
              "<PIL.Image.Image image mode=L size=91x50 at 0x7F0A49099880>"
            ],
            "image/png": "[encoded data removed]"
          },
          "metadata": {}
        }
      ]
    },
    {
      "cell_type": "code",
      "source": [],
      "metadata": {
        "id": "3xJX15Fu4zvo"
      },
      "execution_count": null,
      "outputs": []
    }
  ]
}
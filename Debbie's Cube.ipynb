{
  "nbformat": 4,
  "nbformat_minor": 0,
  "metadata": {
    "colab": {
      "provenance": [],
      "machine_shape": "hm"
    },
    "kernelspec": {
      "name": "python3",
      "display_name": "Python 3"
    },
    "language_info": {
      "name": "python"
    },
    "accelerator": "TPU",
    "gpuClass": "standard"
  },
  "cells": [
    {
      "cell_type": "code",
      "source": [
        "import pandas as pd"
      ],
      "metadata": {
        "id": "sLXwoo-Tr_zU"
      },
      "execution_count": null,
      "outputs": []
    },
    {
      "cell_type": "code",
      "execution_count": null,
      "metadata": {
        "colab": {
          "base_uri": "https://localhost:8080/"
        },
        "id": "fwzk4UO8qRtp",
        "outputId": "9628bdcd-4b57-4c18-bf81-d24af500fce8"
      },
      "outputs": [
        {
          "output_type": "stream",
          "name": "stdout",
          "text": [
            "Looking in indexes: https://pypi.org/simple, https://us-python.pkg.dev/colab-wheels/public/simple/\n",
            "Collecting spectral\n",
            "  Downloading spectral-0.23.1-py3-none-any.whl (212 kB)\n",
            "\u001b[2K     \u001b[90m━━━━━━━━━━━━━━━━━━━━━━━━━━━━━━━━━━━━━━━\u001b[0m \u001b[32m212.9/212.9 KB\u001b[0m \u001b[31m5.6 MB/s\u001b[0m eta \u001b[36m0:00:00\u001b[0m\n",
            "\u001b[?25hRequirement already satisfied: numpy in /usr/local/lib/python3.9/dist-packages (from spectral) (1.24.2)\n",
            "Installing collected packages: spectral\n",
            "Successfully installed spectral-0.23.1\n"
          ]
        }
      ],
      "source": [
        "! pip install spectral\n"
      ]
    },
    {
      "cell_type": "code",
      "source": [
        "import imageio\n",
        "import numpy as np"
      ],
      "metadata": {
        "id": "sXaVbKNPvb_w"
      },
      "execution_count": null,
      "outputs": []
    },
    {
      "cell_type": "markdown",
      "source": [
        "# Load The Cube"
      ],
      "metadata": {
        "id": "gHZNO5Fd0CEs"
      }
    },
    {
      "cell_type": "code",
      "source": [
        "hdr_path = \"bimodal.hdr\"\n",
        "import cv2\n",
        "\n",
        "import spectral.io.envi as envi\n",
        "from pathlib import Path\n",
        "\n",
        "\n",
        "header_file = str(hdr_path)\n",
        "spectral_file = str('bimodal.dat')\n",
        "\n",
        "numpy_ndarr = envi.open(header_file, spectral_file)\n",
        "\n",
        "cube = numpy_ndarr.read_bands(range(91))  # select the bands\n",
        "\n",
        "# Here, cube is an numpy nd-array\n",
        "\n",
        "print(cube.shape)    # returns (100, 100, 3)\n"
      ],
      "metadata": {
        "colab": {
          "base_uri": "https://localhost:8080/"
        },
        "id": "tMK1xqD7u9SW",
        "outputId": "da31ec10-fcfa-4e63-ef54-38e4735d0ef5"
      },
      "execution_count": null,
      "outputs": [
        {
          "output_type": "stream",
          "name": "stdout",
          "text": [
            "(50, 50, 91)\n"
          ]
        }
      ]
    },
    {
      "cell_type": "code",
      "source": [
        "import spectral as spec"
      ],
      "metadata": {
        "id": "9Ao0_aND0mAB"
      },
      "execution_count": null,
      "outputs": []
    },
    {
      "cell_type": "code",
      "source": [
        "from spectral.graphics.spypylab import imshow\n",
        "spec.imshow(cube,(0,45,90))"
      ],
      "metadata": {
        "colab": {
          "base_uri": "https://localhost:8080/",
          "height": 561
        },
        "id": "fZYE015s0eLq",
        "outputId": "8e5e80ed-c2a8-4ce4-c86d-413653a29bac"
      },
      "execution_count": null,
      "outputs": [
        {
          "output_type": "execute_result",
          "data": {
            "text/plain": [
              "ImageView object:\n",
              "  Display bands       :  (0, 45, 90)\n",
              "  Interpolation       :  <default>\n",
              "  RGB data limits     :\n",
              "    R: [2998.0, 3651.0]\n",
              "    G: [2640.0, 3986.0]\n",
              "    B: [1592.0, 2254.0]"
            ]
          },
          "metadata": {},
          "execution_count": 37
        },
        {
          "output_type": "display_data",
          "data": {
            "text/plain": [
              "<Figure size 640x480 with 1 Axes>"
            ],
            "image/png": "[encoded data removed]"
          },
          "metadata": {}
        }
      ]
    },
    {
      "cell_type": "code",
      "source": [
        "t = cube[5,3,:]\n",
        "p= 0.1\n",
        "th = 0.1"
      ],
      "metadata": {
        "id": "z19HVW2n2m9g"
      },
      "execution_count": null,
      "outputs": []
    },
    {
      "cell_type": "markdown",
      "source": [
        "# Calculate Cube's Statistics\n",
        "Let's compute the statistic properties of a given 2D-pixel and its neighbors. We will first calculate the estimator, denoted as $m$, which is an estimation of the cube $x$. The estimator for every pixel is simply the mean of its immediate neighbors. Instead of calculating this directly using loops and addressing edge cases, we can compute this quite easily using convolution.\n",
        "\n",
        "Let $X$ be a $3\\times 3$ matrix of the given 2D-pixel and its neighbors. We can calculate the estimator $m$ as follows:\n",
        "\n",
        "$m = \\frac{1}{8}\\sum\\limits_{\\substack{i=1 \\ j=1}}^{3} X_{i,j} - \\frac{1}{8} X_{2,2}$\n",
        "\n",
        "\n",
        "\n",
        "\n",
        "​\n",
        " \n",
        "\n",
        "Here, we convolve $X$ with a $3\\times 3$ matrix of ones to obtain the sum of all elements in $X$. We then subtract the center pixel, $X_{2,2}$, to obtain what we need. This is beneficial since we no longer have to take into account edge pixels, which have five neighbors, and corner pixels, which have only three neighbors. The only consideration for edges is dividing by the correct number of neighbors. We can accomplish this by using the function build_norm_mat that builds a normalizing matrix of the desired size."
      ],
      "metadata": {
        "id": "9eIG4k-Q6D4X"
      }
    }
  ]
}